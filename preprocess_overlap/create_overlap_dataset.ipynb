{
 "cells": [
  {
   "cell_type": "code",
   "execution_count": 1,
   "id": "3370a00f-b555-4d72-9715-f77a7e1a5ad0",
   "metadata": {},
   "outputs": [],
   "source": [
    "import pandas as pd\n",
    "# vcf = pd.read_pickle(\"all_vcfs.pkl\")\n",
    "c = pd.read_csv(\"../preprocess_clinical/clinical.csv\").drop(\"Unnamed: 0\", axis=1).rename(columns={\"PTID\":\"subject\"})\n",
    "img = pd.read_pickle('../preprocess_images/mri_meta.pkl')[[\"img_array\", \"subject\", \"label\"]]"
   ]
  },
  {
   "cell_type": "code",
   "execution_count": null,
   "id": "e09f360c-4c65-4b8d-b995-e5369a983a0a",
   "metadata": {},
   "outputs": [],
   "source": [
    "# vcf.head()"
   ]
  },
  {
   "cell_type": "code",
   "execution_count": 2,
   "id": "fd47241c-c670-47f2-9ced-c010e1020c45",
   "metadata": {},
   "outputs": [
    {
     "data": {
      "text/html": [
       "<div>\n",
       "<style scoped>\n",
       "    .dataframe tbody tr th:only-of-type {\n",
       "        vertical-align: middle;\n",
       "    }\n",
       "\n",
       "    .dataframe tbody tr th {\n",
       "        vertical-align: top;\n",
       "    }\n",
       "\n",
       "    .dataframe thead th {\n",
       "        text-align: right;\n",
       "    }\n",
       "</style>\n",
       "<table border=\"1\" class=\"dataframe\">\n",
       "  <thead>\n",
       "    <tr style=\"text-align: right;\">\n",
       "      <th></th>\n",
       "      <th>subject</th>\n",
       "      <th>RID</th>\n",
       "      <th>PHASE</th>\n",
       "      <th>Group</th>\n",
       "      <th>PTGENDER_-4.0</th>\n",
       "      <th>PTGENDER_1.0</th>\n",
       "      <th>PTGENDER_2.0</th>\n",
       "      <th>PTHOME_-4.0</th>\n",
       "      <th>PTHOME_1.0</th>\n",
       "      <th>PTHOME_2.0</th>\n",
       "      <th>...</th>\n",
       "      <th>NXOTHER_1.0</th>\n",
       "      <th>NXOTHER_2.0</th>\n",
       "      <th>PTADDX</th>\n",
       "      <th>PHC_LAN</th>\n",
       "      <th>PHC_VSP</th>\n",
       "      <th>PTCOGBEG</th>\n",
       "      <th>PTDOBYY</th>\n",
       "      <th>PHC_MEM</th>\n",
       "      <th>AGE</th>\n",
       "      <th>PHC_EXF</th>\n",
       "    </tr>\n",
       "  </thead>\n",
       "  <tbody>\n",
       "    <tr>\n",
       "      <th>0</th>\n",
       "      <td>002_S_0295</td>\n",
       "      <td>295</td>\n",
       "      <td>ADNI1</td>\n",
       "      <td>0.0</td>\n",
       "      <td>0.0</td>\n",
       "      <td>1.0</td>\n",
       "      <td>0.0</td>\n",
       "      <td>0.0</td>\n",
       "      <td>1.0</td>\n",
       "      <td>0.0</td>\n",
       "      <td>...</td>\n",
       "      <td>1.0</td>\n",
       "      <td>0.0</td>\n",
       "      <td>-4.0</td>\n",
       "      <td>0.272</td>\n",
       "      <td>0.483</td>\n",
       "      <td>-4.0</td>\n",
       "      <td>1921.0</td>\n",
       "      <td>1.357</td>\n",
       "      <td>84.9363</td>\n",
       "      <td>0.554</td>\n",
       "    </tr>\n",
       "    <tr>\n",
       "      <th>1</th>\n",
       "      <td>002_S_0413</td>\n",
       "      <td>413</td>\n",
       "      <td>ADNI1</td>\n",
       "      <td>0.0</td>\n",
       "      <td>0.0</td>\n",
       "      <td>0.0</td>\n",
       "      <td>1.0</td>\n",
       "      <td>0.0</td>\n",
       "      <td>1.0</td>\n",
       "      <td>0.0</td>\n",
       "      <td>...</td>\n",
       "      <td>1.0</td>\n",
       "      <td>0.0</td>\n",
       "      <td>-4.0</td>\n",
       "      <td>2.594</td>\n",
       "      <td>-4.000</td>\n",
       "      <td>-4.0</td>\n",
       "      <td>1929.0</td>\n",
       "      <td>1.287</td>\n",
       "      <td>76.9528</td>\n",
       "      <td>1.480</td>\n",
       "    </tr>\n",
       "    <tr>\n",
       "      <th>2</th>\n",
       "      <td>002_S_0559</td>\n",
       "      <td>559</td>\n",
       "      <td>ADNI1</td>\n",
       "      <td>0.0</td>\n",
       "      <td>0.0</td>\n",
       "      <td>1.0</td>\n",
       "      <td>0.0</td>\n",
       "      <td>0.0</td>\n",
       "      <td>1.0</td>\n",
       "      <td>0.0</td>\n",
       "      <td>...</td>\n",
       "      <td>1.0</td>\n",
       "      <td>0.0</td>\n",
       "      <td>-4.0</td>\n",
       "      <td>1.041</td>\n",
       "      <td>-4.000</td>\n",
       "      <td>-4.0</td>\n",
       "      <td>1927.0</td>\n",
       "      <td>0.768</td>\n",
       "      <td>80.5284</td>\n",
       "      <td>1.176</td>\n",
       "    </tr>\n",
       "    <tr>\n",
       "      <th>3</th>\n",
       "      <td>002_S_0619</td>\n",
       "      <td>619</td>\n",
       "      <td>ADNI1</td>\n",
       "      <td>2.0</td>\n",
       "      <td>0.0</td>\n",
       "      <td>1.0</td>\n",
       "      <td>0.0</td>\n",
       "      <td>0.0</td>\n",
       "      <td>0.0</td>\n",
       "      <td>0.0</td>\n",
       "      <td>...</td>\n",
       "      <td>0.0</td>\n",
       "      <td>1.0</td>\n",
       "      <td>-4.0</td>\n",
       "      <td>0.116</td>\n",
       "      <td>0.264</td>\n",
       "      <td>-4.0</td>\n",
       "      <td>1928.0</td>\n",
       "      <td>-1.259</td>\n",
       "      <td>78.0315</td>\n",
       "      <td>-0.509</td>\n",
       "    </tr>\n",
       "    <tr>\n",
       "      <th>4</th>\n",
       "      <td>002_S_0685</td>\n",
       "      <td>685</td>\n",
       "      <td>ADNI1</td>\n",
       "      <td>0.0</td>\n",
       "      <td>0.0</td>\n",
       "      <td>0.0</td>\n",
       "      <td>1.0</td>\n",
       "      <td>0.0</td>\n",
       "      <td>1.0</td>\n",
       "      <td>0.0</td>\n",
       "      <td>...</td>\n",
       "      <td>1.0</td>\n",
       "      <td>0.0</td>\n",
       "      <td>-4.0</td>\n",
       "      <td>1.170</td>\n",
       "      <td>-4.000</td>\n",
       "      <td>-4.0</td>\n",
       "      <td>1916.0</td>\n",
       "      <td>0.149</td>\n",
       "      <td>92.7228</td>\n",
       "      <td>0.111</td>\n",
       "    </tr>\n",
       "  </tbody>\n",
       "</table>\n",
       "<p>5 rows × 117 columns</p>\n",
       "</div>"
      ],
      "text/plain": [
       "      subject  RID  PHASE  Group  PTGENDER_-4.0  PTGENDER_1.0  PTGENDER_2.0  \\\n",
       "0  002_S_0295  295  ADNI1    0.0            0.0           1.0           0.0   \n",
       "1  002_S_0413  413  ADNI1    0.0            0.0           0.0           1.0   \n",
       "2  002_S_0559  559  ADNI1    0.0            0.0           1.0           0.0   \n",
       "3  002_S_0619  619  ADNI1    2.0            0.0           1.0           0.0   \n",
       "4  002_S_0685  685  ADNI1    0.0            0.0           0.0           1.0   \n",
       "\n",
       "   PTHOME_-4.0  PTHOME_1.0  PTHOME_2.0  ...  NXOTHER_1.0  NXOTHER_2.0  PTADDX  \\\n",
       "0          0.0         1.0         0.0  ...          1.0          0.0    -4.0   \n",
       "1          0.0         1.0         0.0  ...          1.0          0.0    -4.0   \n",
       "2          0.0         1.0         0.0  ...          1.0          0.0    -4.0   \n",
       "3          0.0         0.0         0.0  ...          0.0          1.0    -4.0   \n",
       "4          0.0         1.0         0.0  ...          1.0          0.0    -4.0   \n",
       "\n",
       "   PHC_LAN  PHC_VSP  PTCOGBEG  PTDOBYY  PHC_MEM      AGE  PHC_EXF  \n",
       "0    0.272    0.483      -4.0   1921.0    1.357  84.9363    0.554  \n",
       "1    2.594   -4.000      -4.0   1929.0    1.287  76.9528    1.480  \n",
       "2    1.041   -4.000      -4.0   1927.0    0.768  80.5284    1.176  \n",
       "3    0.116    0.264      -4.0   1928.0   -1.259  78.0315   -0.509  \n",
       "4    1.170   -4.000      -4.0   1916.0    0.149  92.7228    0.111  \n",
       "\n",
       "[5 rows x 117 columns]"
      ]
     },
     "execution_count": 2,
     "metadata": {},
     "output_type": "execute_result"
    }
   ],
   "source": [
    "c.head()"
   ]
  },
  {
   "cell_type": "code",
   "execution_count": 3,
   "id": "0d315924-eacb-4ad6-a5c5-72386f0aa7db",
   "metadata": {},
   "outputs": [],
   "source": [
    "c = c.rename(columns = {\"Group\":\"GROUP\"})"
   ]
  },
  {
   "cell_type": "code",
   "execution_count": 4,
   "id": "5b3082bf-81c0-4934-9785-5d7d4e11eba7",
   "metadata": {},
   "outputs": [],
   "source": [
    "# a = vcf.merge(c, on = [\"subject\", \"GROUP\"]).merge(img, on = \"subject\")\n",
    "\n",
    "a = c"
   ]
  },
  {
   "cell_type": "code",
   "execution_count": 5,
   "id": "767db294-0791-49a1-8cd6-ab530658c156",
   "metadata": {},
   "outputs": [
    {
     "data": {
      "text/plain": [
       "subject\n",
       "002_S_0295    1\n",
       "100_S_4511    1\n",
       "100_S_4551    1\n",
       "100_S_4700    1\n",
       "100_S_4701    1\n",
       "             ..\n",
       "029_S_4652    1\n",
       "029_S_5135    1\n",
       "029_S_5158    1\n",
       "029_S_5166    1\n",
       "941_S_6854    1\n",
       "Name: count, Length: 2402, dtype: int64"
      ]
     },
     "execution_count": 5,
     "metadata": {},
     "output_type": "execute_result"
    }
   ],
   "source": [
    "a[\"subject\"].value_counts()"
   ]
  },
  {
   "cell_type": "code",
   "execution_count": 6,
   "id": "f944845e-06ed-4f9e-813e-432436ba1ef7",
   "metadata": {},
   "outputs": [
    {
     "data": {
      "text/plain": [
       "GROUP\n",
       "0.0    901\n",
       "1.0    798\n",
       "2.0    703\n",
       "Name: count, dtype: int64"
      ]
     },
     "execution_count": 6,
     "metadata": {},
     "output_type": "execute_result"
    }
   ],
   "source": [
    "a[\"GROUP\"].value_counts()"
   ]
  },
  {
   "cell_type": "code",
   "execution_count": 7,
   "id": "337fec2d-3672-458b-922b-796316788706",
   "metadata": {},
   "outputs": [
    {
     "data": {
      "text/plain": [
       "GROUP\n",
       "0.0    901\n",
       "1.0    798\n",
       "2.0    703\n",
       "Name: count, dtype: int64"
      ]
     },
     "execution_count": 7,
     "metadata": {},
     "output_type": "execute_result"
    }
   ],
   "source": [
    "a[\"GROUP\"].value_counts()"
   ]
  },
  {
   "cell_type": "code",
   "execution_count": 8,
   "id": "918771f2-1afa-41d6-bd34-d3ccb933d9eb",
   "metadata": {},
   "outputs": [],
   "source": [
    "cols = list(set(a.columns) - set([\"PTID\", \"label\", \"GROUP\",\n",
    "                                  \"RID\", \"ID\", \"Group\", \"Phase\", \"SITEID\", \"VISCODE\", \"VISCODE2\", \"USERDATE\", \"USERDATE2\", \"update_stamp\", \"DX\", \"Unnamed: 0\"]))"
   ]
  },
  {
   "cell_type": "code",
   "execution_count": 9,
   "id": "76a4ef04-5abc-4e94-ae9b-1dc49d9dea36",
   "metadata": {},
   "outputs": [],
   "source": [
    "X= a[cols]\n",
    "y = a[\"GROUP\"]"
   ]
  },
  {
   "cell_type": "code",
   "execution_count": 10,
   "id": "324024f5-7eb5-43d0-a02b-a33cd7c33e01",
   "metadata": {},
   "outputs": [],
   "source": [
    "from sklearn.model_selection import train_test_split\n",
    "X_train, X_test, y_train, y_test = train_test_split(X, y, test_size=0.1, stratify=y)"
   ]
  },
  {
   "cell_type": "code",
   "execution_count": 11,
   "id": "a165e903-b782-417f-a7db-c232cc1f5522",
   "metadata": {},
   "outputs": [],
   "source": [
    "X_test[[\"subject\"]].to_csv(\"overlap_test_set.csv\")"
   ]
  },
  {
   "cell_type": "code",
   "execution_count": 12,
   "id": "6b1ed881-6654-46b2-ae34-45d38bc2f143",
   "metadata": {},
   "outputs": [],
   "source": [
    "# snp_cols = set(X_train.columns).intersection(set(vcf.columns))"
   ]
  },
  {
   "cell_type": "code",
   "execution_count": 13,
   "id": "407d2e04-1583-46d5-8490-90668b388cc4",
   "metadata": {},
   "outputs": [],
   "source": [
    "# X_train_snp = X_train[snp_cols]\n",
    "# X_test_snp = X_test[snp_cols]"
   ]
  },
  {
   "cell_type": "code",
   "execution_count": 15,
   "id": "b2040535-5fae-4c6b-88bc-c683488cfa5f",
   "metadata": {},
   "outputs": [
    {
     "name": "stdout",
     "output_type": "stream",
     "text": [
      "3\n",
      "1\n"
     ]
    }
   ],
   "source": [
    "img_cols = set(X_train.columns).intersection(set(img.columns))\n",
    "print(len(img.columns))\n",
    "print(len(img_cols))\n",
    "X_train_img = X_train[list(img_cols)]\n",
    "X_test_img = X_test[list(img_cols)]"
   ]
  },
  {
   "cell_type": "code",
   "execution_count": 16,
   "id": "b4a40292-4da9-4911-b648-c98437c47dc6",
   "metadata": {},
   "outputs": [
    {
     "name": "stdout",
     "output_type": "stream",
     "text": [
      "117\n",
      "115\n"
     ]
    }
   ],
   "source": [
    "clin_cols = set(X_train.columns).intersection(set(c.columns))\n",
    "print(len(c.columns))\n",
    "print(len(clin_cols))\n",
    "X_train_clin = X_train[list(clin_cols)]\n",
    "X_test_clin = X_test[list(clin_cols)]"
   ]
  },
  {
   "cell_type": "code",
   "execution_count": 18,
   "id": "fb54d2ae-7429-400a-9578-dfbac76e5d74",
   "metadata": {},
   "outputs": [],
   "source": [
    "# pd.DataFrame(X_train_snp).to_pickle(\"X_train_snp.pkl\")\n",
    "# pd.DataFrame(X_test_snp).to_pickle(\"X_test_snp.pkl\")\n",
    "pd.DataFrame(y_train).to_csv(\"y_train.csv\")\n",
    "pd.DataFrame(y_test).to_csv(\"y_test.csv\")\n",
    "\n",
    "pd.DataFrame(X_train_clin).to_csv(\"X_train_clinical.csv\")\n",
    "pd.DataFrame(X_test_clin).to_csv(\"X_test_clinical.csv\")\n",
    "\n",
    "pd.DataFrame(X_train_img).to_pickle(\"X_train_img.pkl\")\n",
    "pd.DataFrame(X_test_img).to_pickle(\"X_test_img.pkl\")"
   ]
  },
  {
   "cell_type": "markdown",
   "id": "3d6be1ad-6f93-496b-a914-20728baca6f9",
   "metadata": {},
   "source": [
    "---------------------------------------------------------------------------------------------------------"
   ]
  }
 ],
 "metadata": {
  "kernelspec": {
   "display_name": "Python 3 (ipykernel)",
   "language": "python",
   "name": "python3"
  },
  "language_info": {
   "codemirror_mode": {
    "name": "ipython",
    "version": 3
   },
   "file_extension": ".py",
   "mimetype": "text/x-python",
   "name": "python",
   "nbconvert_exporter": "python",
   "pygments_lexer": "ipython3",
   "version": "3.11.6"
  }
 },
 "nbformat": 4,
 "nbformat_minor": 5
}
